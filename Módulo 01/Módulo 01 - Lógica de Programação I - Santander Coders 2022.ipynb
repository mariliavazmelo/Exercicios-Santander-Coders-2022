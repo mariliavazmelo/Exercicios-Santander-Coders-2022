{
 "cells": [
  {
   "cell_type": "markdown",
   "metadata": {},
   "source": [
    "## Exercícios \n",
    "\n",
    "1. Suponha que o preço de capa de um livro seja R\\$ 24,95, mas as livrarias recebem um desconto de 40\\%. O transporte custa R\\$ 3,00 para o primeiro exemplar e 75 centavos para cada exemplar adicional. Qual é o custo total de atacado para 60 cópias?"
   ]
  },
  {
   "cell_type": "code",
   "execution_count": 1,
   "metadata": {},
   "outputs": [
    {
     "name": "stdout",
     "output_type": "stream",
     "text": [
      "O custo total de atacado para 60 cópias é de R$945.45\n"
     ]
    }
   ],
   "source": [
    "num_copias = 60\n",
    "\n",
    "preco_capa = 24.95\n",
    "\n",
    "livraria = preco_capa - (preco_capa * 0.40)\n",
    "\n",
    "transporte = 3 + (0.75 * (num_copias - 1))\n",
    "\n",
    "custo_total = (livraria * num_copias) + transporte\n",
    "\n",
    "print(f'O custo total de atacado para 60 cópias é de R${custo_total:.2f}')"
   ]
  },
  {
   "cell_type": "markdown",
   "metadata": {},
   "source": [
    "2. Se eu sair da minha casa às 6:52 e correr 1 quilômetro a um certo passo (8min15s por quilômetro), então 3 quilômetros a um passo mais rápido (7min12s por quilômetro) e 1 quilômetro no mesmo passo usado em primeiro lugar, que horas chego em casa para o café da manhã?"
   ]
  },
  {
   "cell_type": "code",
   "execution_count": 2,
   "metadata": {},
   "outputs": [
    {
     "name": "stdout",
     "output_type": "stream",
     "text": [
      "Vou chegar em casa para o café da manhã às 7h 30min 6seg\n"
     ]
    }
   ],
   "source": [
    "# transformar todo o tempo em segundos e já multiplicando pelo numero de quilometros percorridos.\n",
    "\n",
    "tempo01 = ((8 * 60) + 15) * 2\n",
    "tempo02 = ((7 * 60) + 12) * 3\n",
    "\n",
    "tempo_total = tempo01 + tempo02\n",
    "\n",
    "hora_inicial = (6 * 3600) + (52 * 60)\n",
    "\n",
    "hora_chegada = hora_inicial + tempo_total\n",
    "hora_chegada\n",
    "\n",
    "# transformando em horas, minutos e segundos de volta.\n",
    "horas = (hora_chegada // 3600 )\n",
    "minutos = (hora_chegada % 3600) // 60\n",
    "segundos = (hora_chegada % 3600) % 60\n",
    "\n",
    "print(f'Vou chegar em casa para o café da manhã às {horas}h {minutos}min {segundos}seg')"
   ]
  },
  {
   "cell_type": "code",
   "execution_count": 3,
   "metadata": {},
   "outputs": [
    {
     "name": "stdout",
     "output_type": "stream",
     "text": [
      "Vou chegar em casa para o café da manhã às 7:30:06\n"
     ]
    }
   ],
   "source": [
    "# O mesmo exercício usando a biblioteca datetime.\n",
    "\n",
    "from datetime import timedelta as dt\n",
    "\n",
    "hora_i = dt(hours = 6, minutes = 52, seconds = 0)\n",
    "passo01 = dt(hours = 0, minutes = 8, seconds = 15)\n",
    "passo02 = dt(hours = 0, minutes = 7, seconds = 12)\n",
    "\n",
    "hora_f = hora_i + passo01 + passo02 * 3 + passo01\n",
    "\n",
    "print(f'Vou chegar em casa para o café da manhã às {hora_f}')"
   ]
  },
  {
   "cell_type": "markdown",
   "metadata": {},
   "source": [
    "3. Escreva um programa que realize transformações de graus celsius a fahrenheit. O programa deve solicitar por teclado os graus celsius, e deve mostrar uma mensagem mostrando o valor equivalente em graus fahrenheit. A fórmula é:  \n",
    "$$\n",
    "    F = C * 1,8 + 32\n",
    "$$"
   ]
  },
  {
   "cell_type": "code",
   "execution_count": 8,
   "metadata": {},
   "outputs": [
    {
     "name": "stdout",
     "output_type": "stream",
     "text": [
      "A temperatura -25.34° transformada em Fahrenheit, corresponde à -13.6.\n"
     ]
    }
   ],
   "source": [
    "celcius = float(input('Escreva uma temperatura em Graus Celcius para ser convertida para Fahrenheit:'))\n",
    "\n",
    "fahrenheit = (celcius * 1.8) + 32\n",
    "\n",
    "print(f'A temperatura {celcius}° transformada em Fahrenheit, corresponde à {fahrenheit:.1f}.')"
   ]
  }
 ],
 "metadata": {
  "kernelspec": {
   "display_name": "Python 3",
   "language": "python",
   "name": "python3"
  },
  "language_info": {
   "codemirror_mode": {
    "name": "ipython",
    "version": 3
   },
   "file_extension": ".py",
   "mimetype": "text/x-python",
   "name": "python",
   "nbconvert_exporter": "python",
   "pygments_lexer": "ipython3",
   "version": "3.10.7"
  },
  "orig_nbformat": 4
 },
 "nbformat": 4,
 "nbformat_minor": 2
}
