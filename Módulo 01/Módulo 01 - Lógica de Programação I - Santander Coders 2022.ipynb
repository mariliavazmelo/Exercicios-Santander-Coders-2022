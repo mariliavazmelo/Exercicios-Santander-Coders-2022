{
 "cells": [
  {
   "cell_type": "markdown",
   "metadata": {},
   "source": [
    "## Exercícios "
   ]
  },
  {
   "cell_type": "markdown",
   "metadata": {},
   "source": [
    "## 1. \n",
    "Suponha que o preço de capa de um livro seja R$ 24,95, mas as livrarias recebem um desconto de 40%. <br> \n",
    "O transporte custa R$ 3,00 para o primeiro exemplar e R$0,75 para cada exemplar adicional. <br> \n",
    "Qual é o custo total de atacado para 60 cópias? "
   ]
  },
  {
   "cell_type": "code",
   "execution_count": 1,
   "metadata": {},
   "outputs": [
    {
     "name": "stdout",
     "output_type": "stream",
     "text": [
      "O custo total de atacado para 60 cópias é de R$945.45\n"
     ]
    }
   ],
   "source": [
    "num_copias = 60\n",
    "\n",
    "preco_capa = 24.95\n",
    "\n",
    "livraria = preco_capa - (preco_capa * 0.40)\n",
    "\n",
    "transporte = 3 + (0.75 * (num_copias - 1))\n",
    "\n",
    "custo_total = (livraria * num_copias) + transporte\n",
    "\n",
    "print(f'O custo total de atacado para 60 cópias é de R${custo_total:.2f}')"
   ]
  },
  {
   "cell_type": "markdown",
   "metadata": {},
   "source": [
    "## 2. \n",
    "Se eu sair da minha casa às 6:52 e correr:<br>\n",
    "- 1 quilômetro a um certo passo (8min15s por quilômetro), <br>\n",
    "- 3 quilômetros a um passo mais rápido (7min12s por quilômetro) e <br>\n",
    "- 1 quilômetro no mesmo passo usado em primeiro lugar. <br><br>\n",
    "Que horas chego em casa para o café da manhã?"
   ]
  },
  {
   "cell_type": "code",
   "execution_count": 2,
   "metadata": {},
   "outputs": [
    {
     "name": "stdout",
     "output_type": "stream",
     "text": [
      "Vou chegar em casa para o café da manhã às 7h 30min 6seg\n"
     ]
    }
   ],
   "source": [
    "# transformar todo o tempo em segundos e já multiplicando pelo numero de quilometros percorridos.\n",
    "\n",
    "tempo01 = ((8 * 60) + 15) * 2\n",
    "tempo02 = ((7 * 60) + 12) * 3\n",
    "\n",
    "tempo_total = tempo01 + tempo02\n",
    "\n",
    "hora_inicial = (6 * 3600) + (52 * 60)\n",
    "\n",
    "hora_chegada = hora_inicial + tempo_total\n",
    "hora_chegada\n",
    "\n",
    "# transformando em horas, minutos e segundos de volta.\n",
    "horas = (hora_chegada // 3600 )\n",
    "minutos = (hora_chegada % 3600) // 60\n",
    "segundos = (hora_chegada % 3600) % 60\n",
    "\n",
    "print(f'Vou chegar em casa para o café da manhã às {horas}h {minutos}min {segundos}seg')"
   ]
  },
  {
   "cell_type": "code",
   "execution_count": 3,
   "metadata": {},
   "outputs": [
    {
     "name": "stdout",
     "output_type": "stream",
     "text": [
      "Vou chegar em casa para o café da manhã às 7:30:06\n"
     ]
    }
   ],
   "source": [
    "# O mesmo exercício usando a biblioteca datetime.\n",
    "\n",
    "from datetime import timedelta as dt\n",
    "\n",
    "hora_i = dt(hours = 6, minutes = 52, seconds = 0)\n",
    "passo01 = dt(hours = 0, minutes = 8, seconds = 15)\n",
    "passo02 = dt(hours = 0, minutes = 7, seconds = 12)\n",
    "\n",
    "hora_f = hora_i + passo01 + passo02 * 3 + passo01\n",
    "\n",
    "print(f'Vou chegar em casa para o café da manhã às {hora_f}')"
   ]
  },
  {
   "cell_type": "markdown",
   "metadata": {},
   "source": [
    "## 3. \n",
    "Escreva um programa que realize transformações de graus celsius a fahrenheit. <br>\n",
    "O programa deve solicitar por teclado os graus celsius, e deve mostrar uma mensagem mostrando o valor equivalente em graus fahrenheit.<br>\n",
    " A fórmula é:  <br>\n",
    "$$\n",
    "    F = C * 1,8 + 32\n",
    "$$ \n"
   ]
  },
  {
   "cell_type": "code",
   "execution_count": 8,
   "metadata": {},
   "outputs": [
    {
     "name": "stdout",
     "output_type": "stream",
     "text": [
      "A temperatura -25.34° transformada em Fahrenheit, corresponde à -13.6.\n"
     ]
    }
   ],
   "source": [
    "celcius = float(input('Escreva uma temperatura em Graus Celcius para ser convertida para Fahrenheit:'))\n",
    "\n",
    "fahrenheit = (celcius * 1.8) + 32\n",
    "\n",
    "print(f'A temperatura {celcius}° transformada em Fahrenheit, corresponde à {fahrenheit:.1f}.')"
   ]
  },
  {
   "cell_type": "markdown",
   "metadata": {},
   "source": [
    "## 4. \n",
    "Faça um programa em linguagem python que receba um valor em metros, e o converta para centímetros. <br>\n",
    "Por fim, imprima na tela o resultado obtido. <br>\n",
    "*Dica: para converter metros em centímetros, basta multiplicar o valor por 100.*"
   ]
  },
  {
   "cell_type": "code",
   "execution_count": 8,
   "metadata": {},
   "outputs": [
    {
     "name": "stdout",
     "output_type": "stream",
     "text": [
      "96.34\n",
      "96.34m, corresponde à 9634.0cm.\n"
     ]
    }
   ],
   "source": [
    "metros = float(input('Digite um valor em metros para ser convertido em centímetros:'))\n",
    "print(metros)\n",
    "\n",
    "centimetros = metros * 100 \n",
    "\n",
    "print(f'{metros}m, corresponde à {centimetros}cm.')"
   ]
  },
  {
   "cell_type": "markdown",
   "metadata": {},
   "source": [
    "## 5. \n",
    "Uma financeira usa o seguinte critério para conceder empréstimos: <br>\n",
    "- o valor total do empréstimo deve ser até dez vezes o valor da renda mensal do solicitante,\n",
    "- e o valor da prestação deve ser no máximo 30% da renda mensal do solicitante. <br><br>\n",
    "Escreva um programa que leia:<br><br>\n",
    "- a renda mensal de um solicitante, \n",
    "- o valor total do empréstimo solicitado, \n",
    "- o número de prestações que o solicitante deseja pagar e\n",
    "- informe se o empréstimo pode ou não ser concedido."
   ]
  },
  {
   "cell_type": "code",
   "execution_count": 23,
   "metadata": {},
   "outputs": [
    {
     "name": "stdout",
     "output_type": "stream",
     "text": [
      "A renda mensal é R$5000.0.\n",
      "O valor do emprestimo solicitado é R$18000.0.\n",
      "O numero de prestações que o solicitante deseja pagar é 24.\n",
      "O emprestimo foi aprovado? True.\n"
     ]
    }
   ],
   "source": [
    "renda_mensal = float(input('Qual é sua renda mensal?'))\n",
    "print(f'A renda mensal é R${renda_mensal}.')\n",
    "\n",
    "valor_emprestimo = float(input('Qual é o valor do emprestimo solicitado?'))\n",
    "print(f'O valor do emprestimo solicitado é R${valor_emprestimo}.')\n",
    "\n",
    "parcelas = int(input('Em quantas parcelas deseja pagar?'))\n",
    "print(f'O numero de prestações que o solicitante deseja pagar é {parcelas}.')\n",
    "\n",
    "prestacao = valor_emprestimo / parcelas\n",
    "\n",
    "condicao01 = (valor_emprestimo <= (renda_mensal * 10))\n",
    "condicao02 = (prestacao <= (renda_mensal * 0.30))\n",
    "\n",
    "aprovado = condicao01 and condicao02\n",
    "\n",
    "print(f'O emprestimo foi aprovado? {aprovado}.')\n",
    "\n"
   ]
  },
  {
   "cell_type": "markdown",
   "metadata": {},
   "source": [
    "## 6. \n",
    "Escreva um programa em python que:\n",
    "- receba o tamanho do lado de um quadrado, \n",
    "- calcule sua área e seu perímetro, \n",
    "- imprima o resultado na tela."
   ]
  },
  {
   "cell_type": "code",
   "execution_count": 28,
   "metadata": {},
   "outputs": [
    {
     "name": "stdout",
     "output_type": "stream",
     "text": [
      "O lado do quadrado é: 5.6.\n",
      "A área do quadrado é 31.36.\n",
      "O perímetro do quadrado é 22.40.\n"
     ]
    }
   ],
   "source": [
    "lado = float(input('Escreva o tamanho do lado do quadrado:'))\n",
    "print(f'O lado do quadrado é: {lado}.')\n",
    "\n",
    "area = lado ** 2\n",
    "print(f'A área do quadrado é {area:.2f}.')\n",
    "\n",
    "perimetro = lado * 4 \n",
    "print(f'O perímetro do quadrado é {perimetro:.2f}.')"
   ]
  },
  {
   "cell_type": "markdown",
   "metadata": {},
   "source": [
    "## 7. \n",
    "\n",
    "Escreva um programa em python que receba dois números inteiros e exiba o quociente e o resto da divisão inteira entre eles."
   ]
  },
  {
   "cell_type": "code",
   "execution_count": 36,
   "metadata": {},
   "outputs": [
    {
     "name": "stdout",
     "output_type": "stream",
     "text": [
      "20\n",
      "3\n",
      "O quociente da divisão 20/3 é 6.666666666666667, já o resto é 2.\n"
     ]
    }
   ],
   "source": [
    "num01 = int(input('Escreva o primeiro número inteiro:'))\n",
    "print(num01)\n",
    "\n",
    "num02 = int(input('Escreva o segundo numero inteiro: '))\n",
    "print(num02)\n",
    "\n",
    "quociente = num01 / num02\n",
    "resto = num01 % num02\n",
    "\n",
    "print(f'O quociente da divisão {num01}/{num02} é {quociente}, já o resto é {resto}.')"
   ]
  },
  {
   "cell_type": "markdown",
   "metadata": {},
   "source": [
    "## 8. \n",
    "Dado que a fórmula para conversão de Fahrenheit para Celsius é: <br>\n",
    "$$C = 5/9 (F – 32) $$\n",
    "<br> escreva um programa em python que receba um valor de temperatura em Fahrenheit e exibi-o em Celsius."
   ]
  },
  {
   "cell_type": "code",
   "execution_count": 41,
   "metadata": {},
   "outputs": [
    {
     "name": "stdout",
     "output_type": "stream",
     "text": [
      "95.3F.\n",
      "A temperatura 95.3F transformada em Celcius, corresponde à 35.2°.\n"
     ]
    }
   ],
   "source": [
    "fahrenheit = float(input('Escreva uma temperatura em Fharenheit para ser convertida para Celcius:'))\n",
    "print(f'{fahrenheit}F.')\n",
    "\n",
    "celcius = 5 / 9 * (fahrenheit - 32)\n",
    "\n",
    "print(f'A temperatura {fahrenheit}F transformada em Celcius, corresponde à {celcius:.1f}°.')"
   ]
  },
  {
   "cell_type": "markdown",
   "metadata": {},
   "source": [
    "## 9. \n",
    "Faça programa em python para calcular a nota semestral de um aluno. <br>\n",
    "A nota semestral é obtida pela média aritmética entre a nota de 2 bimestres.<br> \n",
    "Cada nota de bimestre é composta por 2 notas de provas."
   ]
  },
  {
   "cell_type": "code",
   "execution_count": 42,
   "metadata": {},
   "outputs": [
    {
     "name": "stdout",
     "output_type": "stream",
     "text": [
      "9.0\n",
      "7.0\n",
      "10.0\n",
      "10.0\n",
      "A nota semestral é 9.00.\n"
     ]
    }
   ],
   "source": [
    "nota01_bim01 = float(input('Qual foi sua nota na primeira prova do primeiro bimestre?'))\n",
    "print(nota01_bim01)\n",
    "nota02_bim01 = float(input('Qual foi sua nota na segunda prova do primeiro bimestre?'))\n",
    "print(nota02_bim01)\n",
    "nota01_bim02 = float(input('Qual foi sua nota na primeira prova do segundo bimestre?'))\n",
    "print(nota01_bim02)\n",
    "nota02_bim02 = float(input('Qual foi sua nota na segunda prova do segundo bimestre?'))\n",
    "print(nota02_bim02)\n",
    "\n",
    "media_nota_bim01 = (nota01_bim01 + nota02_bim01) / 2 \n",
    "media_nota_bim02 = (nota01_bim02 + nota02_bim02) / 2 \n",
    "\n",
    "nota_semestral = (media_nota_bim01 + media_nota_bim02) / 2 \n",
    "\n",
    "print(f'A nota semestral é {nota_semestral:.2f}.')"
   ]
  },
  {
   "cell_type": "markdown",
   "metadata": {},
   "source": [
    "## 10.\n",
    "Escreva um programa que retorna a parte decimal de um número. <br>\n",
    "O programa deve solicitar por teclado um número, se a parte decimal for 0 mostrar a mensagem 'O número informado é um inteiro.'. Se a parte decimal for diferente de 0, mostrar a mensagem 'A parte decimal é: x' ('x' é o valor decimal)."
   ]
  },
  {
   "cell_type": "code",
   "execution_count": 43,
   "metadata": {},
   "outputs": [
    {
     "name": "stdout",
     "output_type": "stream",
     "text": [
      "8.56\n",
      "A parte decimal é 0.56.\n"
     ]
    }
   ],
   "source": [
    "numero = float(input('Escreva um numero.'))\n",
    "print(f'{numero}')\n",
    "\n",
    "resto = numero % 1 \n",
    "\n",
    "if (resto == 0):\n",
    "    print('O numero informado é um inteiro.')\n",
    "   \n",
    "else:\n",
    "    print(f'A parte decimal é {resto:.2f}.')"
   ]
  },
  {
   "cell_type": "markdown",
   "metadata": {},
   "source": [
    "## 11. \n",
    "Uma empresa decidiu dar bonificação de 5% ao funcionário se o seu tempo de serviço for superior a 5 anos. <br>\n",
    "Pergunte ao usuário seu salário e anos de serviço e imprima o valor líquido do bônus."
   ]
  },
  {
   "cell_type": "code",
   "execution_count": 48,
   "metadata": {},
   "outputs": [
    {
     "name": "stdout",
     "output_type": "stream",
     "text": [
      "R$8000.0.\n",
      "6 anos.\n",
      "Oba! Sua bonificação é de R$400.0.\n"
     ]
    }
   ],
   "source": [
    "salario = float(input('Qual é o seu salário?'))\n",
    "print(f'R${salario}.')\n",
    "anos_serv = int(input('Há quantos anos você trabalha na empresa?'))\n",
    "print(f'{anos_serv} anos.')\n",
    "\n",
    "\n",
    "if anos_serv >= 5:\n",
    "    bonificacao = salario * 0.05\n",
    "    print(f'Oba! Sua bonificação é de R${bonificacao}.')\n",
    "\n",
    "else:\n",
    "    print('Você ainda não tem direito à bonificação.')\n"
   ]
  },
  {
   "cell_type": "markdown",
   "metadata": {},
   "source": [
    "## 12. \n",
    "A Ada decidiu organizar um bolão para a copa do Mundo. As regras para atribuir pontos são as seguintes:\n",
    "\n",
    "- Acertar o placar exato dá 25 pontos.\n",
    "- Acertar o vencedor e o número de gols da equipe vencedora dá 18 pontos.\n",
    "- Acertar o vencedor e a diferença de gols entre o vencedor e perdedor dá 15 pontos.\n",
    "- Acertar que a partida terminaria em empate dá 15 pontos.\n",
    "- Acertar o time vencedor e o número de gols do time perdedor dá 12 pontos.\n",
    "- Acertar apenas o vencedor da partida dá 10 pontos.\n",
    "- Previu que o jogo seria um empate e não foi empate dá 4 pontos.\n",
    "- Qualquer outro caso, serão 0 pontos.\n",
    "\n",
    "Construa um programa que verifique quantos pontos a usuário ganhou em uma partida. O programa deve solicitar os valores do escore real e os valores preditos pelo usuário.\n",
    "\n",
    "Exemplos:\n",
    "\n",
    "O resultado do jogo foi: Time_A vs Time_B (2 - 3)\n",
    "\n",
    "- Para o palpite (1 - 3), o usuário ganha 18 pontos (acertou vencedor e numero de gols da equipe vencedora.)\n",
    "- Para o palpite (0 - 1), o usuário ganha 15 pontos (acertou vencedor e diferença de gols.)\n",
    "- Para o palpite (0 - 2), o usuário ganha 10 pontos (acertou unicamente o vencedor.)\n",
    "- Para o palpite (2 - 2), o usuário unicamente ganha 4 pontos.\n"
   ]
  },
  {
   "cell_type": "code",
   "execution_count": 2,
   "metadata": {},
   "outputs": [
    {
     "name": "stdout",
     "output_type": "stream",
     "text": [
      "Placar palpite: \n",
      "TimeA 3 x TimeB 4.\n",
      "Placar real: \n",
      "TimeA 2 x TimeB 3.\n",
      "A quantidade de pontos que você fez nessa rodada foi 15 pontos!\n"
     ]
    }
   ],
   "source": [
    "palp_timeA = int(input('Qual é seu palpite do placar para o Time A?'))\n",
    "palp_timeB = int(input('Qual é seu palpite do placar para o Time B?'))\n",
    "print(f'Placar palpite: \\nTimeA {palp_timeA} x TimeB {palp_timeB}.')\n",
    "\n",
    "real_timeA = 2\n",
    "real_timeB = 3\n",
    "print(f'Placar real: \\nTimeA {real_timeA} x TimeB {real_timeB}.')\n",
    "\n",
    "pontos = 0\n",
    "# Acertar o placar exato\n",
    "if palp_timeA == real_timeA and palp_timeB == real_timeB:\n",
    "    pontos = 25\n",
    "    \n",
    "# Acertar o vencedor e o número de gols da equipe vencedora\n",
    "elif real_timeA > real_timeB and palp_timeA > palp_timeB and real_timeA == palp_timeA:\n",
    "    pontos = 18\n",
    "elif real_timeB > real_timeA and palp_timeB > palp_timeA and real_timeB == palp_timeB:\n",
    "    pontos = 18\n",
    "    \n",
    "# Acertar o vencedor e a diferença de gols entre o vencedor e perdedor\n",
    "elif real_timeA > real_timeB and palp_timeA > palp_timeB and abs(real_timeA - real_timeB) == abs(palp_timeA - palp_timeB):\n",
    "    pontos = 15\n",
    "elif real_timeB > real_timeA and palp_timeB > palp_timeA and abs(real_timeB - real_timeA) == abs(palp_timeB - palp_timeA):\n",
    "    pontos = 15\n",
    "    \n",
    "# Acertar que a partida terminaria em empate\n",
    "elif real_timeA == real_timeB and palp_timeA == palp_timeB:\n",
    "    pontos = 15\n",
    "    \n",
    "# Acertar o time vencedor e o número de gols do time perdedor\n",
    "elif real_timeA > real_timeB and palp_timeA > palp_timeB and real_timeB == palp_timeB:\n",
    "    pontos = 12\n",
    "elif real_timeB > real_timeA and palp_timeB > palp_timeA and real_timeA == palp_timeA:\n",
    "    pontos = 12\n",
    "\n",
    "# Acertar apenas o vencedor da partida\n",
    "elif real_timeA > real_timeB and palp_timeA > palp_timeB and real_timeB != palp_timeB and real_timeA != palp_timeA:\n",
    "    pontos = 10\n",
    "elif real_timeB > real_timeA and palp_timeB > palp_timeA and real_timeA != palp_timeA and real_timeB != palp_timeB:\n",
    "    pontos = 10\n",
    "    \n",
    "# Previu que o jogo seria um empate e não foi empate\n",
    "elif palp_timeA == palp_timeB and real_timeA != real_timeB:\n",
    "    pontos =  4 \n",
    "    \n",
    "# Qualquer outro caso\n",
    "else:\n",
    "    pontos = 0\n",
    "\n",
    "print(f'A quantidade de pontos que você fez nessa rodada foi {pontos} pontos!')\n",
    "\n"
   ]
  },
  {
   "cell_type": "markdown",
   "metadata": {},
   "source": [
    "## 13. \n",
    "Faça um programa que pede duas notas de um aluno. Em seguida ele deve calcular a média do aluno e dar o seguinte resultado:\n",
    "\n",
    "- A mensagem \"Aprovado\", se a média alcançada for maior ou igual a sete;\n",
    "- A mensagem \"Reprovado\", se a média for menor do que sete;\n",
    "- A mensagem \"Aprovado com Distinção\", se a média for igual a dez."
   ]
  },
  {
   "cell_type": "code",
   "execution_count": 8,
   "metadata": {},
   "outputs": [
    {
     "name": "stdout",
     "output_type": "stream",
     "text": [
      "Nota P1: 9.0.\n",
      "Nota P2: 10.0.\n",
      "Aprovado!\n"
     ]
    }
   ],
   "source": [
    "nota01 = float(input('Digite a sua nota da P1:'))\n",
    "print(f'Nota P1: {nota01}.')\n",
    "nota02 = float(input('Digite a sua nota da P2:'))\n",
    "print(f'Nota P2: {nota02}.')\n",
    "\n",
    "media = (nota01 + nota02) / 2 \n",
    "\n",
    "if media == 10:\n",
    "    print('Aprovado com distinção!')\n",
    "elif media >= 7:\n",
    "    print('Aprovado!')\n",
    "else:\n",
    "    print ('Reprovado.')"
   ]
  },
  {
   "cell_type": "markdown",
   "metadata": {},
   "source": [
    "## 14.\n",
    "Faça um Programa que leia três números inteiros e mostre o maior deles."
   ]
  },
  {
   "cell_type": "code",
   "execution_count": 25,
   "metadata": {},
   "outputs": [
    {
     "name": "stdout",
     "output_type": "stream",
     "text": [
      "Digite o primeiro número inteiro: 25.\n",
      "Digite o segundo número inteiro: 72.\n",
      "Digite o terceiro número inteiro: 64.\n",
      "O maior numero é o 72.\n"
     ]
    }
   ],
   "source": [
    "num01 = int(input('Digite o primeiro número inteiro:'))\n",
    "print(f'Digite o primeiro número inteiro: {num01}.')\n",
    "num02 = int(input('Digite o segundo número inteiro:'))\n",
    "print(f'Digite o segundo número inteiro: {num02}.')\n",
    "num03 = int(input('Digite o terceiro número inteiro:'))\n",
    "print(f'Digite o terceiro número inteiro: {num03}.')\n",
    "\n",
    "if num01 > num02 and num01 > num03:\n",
    "    print(f'O maior numero é o {num01}.')\n",
    "elif num02 > num01 and num02 > num03:\n",
    "     print(f'O maior numero é o {num02}.')\n",
    "else:\n",
    "     print(f'O maior numero é o {num03}.')"
   ]
  },
  {
   "cell_type": "markdown",
   "metadata": {},
   "source": [
    "## 15.\n",
    "Faça um Programa que pergunte em que turno você estuda. <br>\n",
    "Peça para digitar M-matutino ou V-Vespertino ou N- Noturno. <br>\n",
    "Imprima a mensagem \"Bom Dia!\", \"Boa Tarde!\" ou \"Boa Noite!\" ou \"Valor Inválido!\", conforme o caso."
   ]
  },
  {
   "cell_type": "code",
   "execution_count": 24,
   "metadata": {},
   "outputs": [
    {
     "name": "stdout",
     "output_type": "stream",
     "text": [
      "Em qual turno você estuda? \n",
      " Digite: \n",
      "M - Matutino \n",
      "V - Vespertino \n",
      "N - Noturno.\n",
      "n\n",
      "Boa noite!\n"
     ]
    }
   ],
   "source": [
    "print('Em qual turno você estuda? \\n Digite: \\nM - Matutino \\nV - Vespertino \\nN - Noturno.')\n",
    "periodo = (input('Em qual turno você estuda? Digite: M - Matutino, V - Vespertino , N - Noturno.'))\n",
    "print(periodo)\n",
    "\n",
    "if periodo == 'M' or periodo == 'm':\n",
    "    print('Bom dia!')\n",
    "elif periodo == 'V' or periodo == 'v':\n",
    "    print('Boa tarde!')\n",
    "elif periodo == 'N' or periodo == 'n':\n",
    "    print('Boa noite!')\n",
    "else:\n",
    "    print('Valor inválido.')"
   ]
  },
  {
   "cell_type": "markdown",
   "metadata": {},
   "source": [
    "## 16.\n",
    "Faça um programa que recebe o salário de um colaborador e o reajuste segundo o seguinte critério, baseado no salário atual:\n",
    "\n",
    "- salários até R$ 280,00 (incluindo) : aumento de 20%\n",
    "- salários entre R$ 280,00 e R$ 700,00 : aumento de 15%\n",
    "- salários entre R$ 700,00 e R$ 1500,00 : aumento de 10%\n",
    "- salários de R$ 1500,00 em diante : aumento de 5% <br>\n",
    "\n",
    "Após o aumento ser realizado, informe na tela:\n",
    "\n",
    "- salário antes do reajuste;\n",
    "- percentual de aumento aplicado;\n",
    "- valor do aumento;\n",
    "- novo salário, após o aumento."
   ]
  },
  {
   "cell_type": "code",
   "execution_count": 40,
   "metadata": {},
   "outputs": [
    {
     "name": "stdout",
     "output_type": "stream",
     "text": [
      "Seu salário antes do reajuste era de R$1501.00. \n",
      "      \n",
      "O percentual de aumento aplicado foi de 5.0%. \n",
      "      \n",
      "O valor do seu aumento é de R$75.05.\n",
      "      \n",
      "Seu novo salário é de R$1576.05\n"
     ]
    }
   ],
   "source": [
    "salario = float(input('Digite o salário do colaborador:'))\n",
    "\n",
    "if salario <= 280:\n",
    "    percentual_aumento = 0.20\n",
    "elif 280.01 <= salario <= 700:\n",
    "    percentual_aumento = 0.15\n",
    "elif 700.01 <= salario <= 1500:\n",
    "    percentual_aumento = 0.10\n",
    "else:\n",
    "    percentual_aumento = 0.05\n",
    "    \n",
    "aumento = salario * percentual_aumento\n",
    "novo_salario = salario + aumento\n",
    "\n",
    "    \n",
    "print(f'''Seu salário antes do reajuste era de R${salario:.2f}. \n",
    "      \\nO percentual de aumento aplicado foi de {percentual_aumento * 100}%. \n",
    "      \\nO valor do seu aumento é de R${aumento:.2f}.\n",
    "      \\nSeu novo salário é de R${novo_salario:.2f}''')"
   ]
  },
  {
   "cell_type": "markdown",
   "metadata": {},
   "source": [
    "## 17. \n",
    "Faça um programa para o cálculo de uma folha de pagamento, sabendo que os descontos são:\n",
    "- Imposto de Renda, que depende do salário bruto (conforme tabela abaixo),\n",
    "- 3% para o Sindicato,\n",
    "- FGTS( corresponde a 11% do Salário Bruto, mas não é descontado (é a empresa que deposita)),\n",
    "- O Salário Líquido corresponde ao Salário Bruto menos os descontos. \n",
    "\n",
    "O programa deverá pedir ao usuário o valor da sua hora e a quantidade de horas trabalhadas no mês.\n",
    "\n",
    "Desconto do IR:\n",
    "\n",
    "Salário Bruto até 900 (inclusive) - isento<br>\n",
    "Salário Bruto até 1500 (inclusive) - desconto de 5%<br>\n",
    "Salário Bruto até 2500 (inclusive) - desconto de 10%<br>\n",
    "Salário Bruto acima de 2500 - desconto de 20% <br>\n",
    "\n",
    "Imprima na tela as informações, dispostas conforme o exemplo abaixo. No exemplo o valor da hora é 5 e a quantidade de hora é 220.\n",
    "\n",
    "Salário Bruto: (5 * 220): R$ 1100,00\n",
    "\n",
    "(-) IR (5%): R$ 55,00<br>\n",
    "(-) INSS ( 10%): R$ 110,00<br>\n",
    "FGTS (11%): R$ 121,00<br>\n",
    "Total de descontos: R$ 165,00<br>\n",
    "Salário Liquido: R$ 935,00"
   ]
  },
  {
   "cell_type": "code",
   "execution_count": 8,
   "metadata": {},
   "outputs": [
    {
     "name": "stdout",
     "output_type": "stream",
     "text": [
      "Salário Bruto : R$900.00\n",
      "      \n",
      "(-)IR(0%): R$0.00\n",
      "      \n",
      "(-)INSS(10%): R$90.00\n",
      "      \n",
      "(-)Sindicato(3%): R$27.00\n",
      "      \n",
      "FGTS(11%): R$99.00\n",
      "      \n",
      "Total de descontos: R$117.00\n",
      "      \n",
      "Salário Liquido: R$783.00\n"
     ]
    }
   ],
   "source": [
    "valor_hora = float(input('Digite o valor da sua hora de trabalho:'))\n",
    "num_horas = int(input('Digite a quantidade de horas trabalhadas no mês:'))\n",
    "\n",
    "salario_bruto = valor_hora * num_horas\n",
    "\n",
    "if salario_bruto <= 900:\n",
    "      desc_ir = 0\n",
    "elif 900.01 <= salario_bruto <= 1500:\n",
    "      desc_ir = 0.05\n",
    "elif 1500.01 <= salario_bruto <= 2500:\n",
    "      desc_ir = 0.10\n",
    "else:\n",
    "      desc_ir = 0.20\n",
    "      \n",
    "sal_desc_ir = (salario_bruto * desc_ir)\n",
    "inss = salario_bruto * 0.10\n",
    "sindicato = salario_bruto * 0.03\n",
    "descontos = sal_desc_ir + inss + sindicato\n",
    "\n",
    "print(f'''Salário Bruto : R${salario_bruto:.2f}\n",
    "      \\n(-)IR({desc_ir * 100}%): R${sal_desc_ir:.2f}\n",
    "      \\n(-)INSS(10%): R${inss:.2f}\n",
    "      \\n(-)Sindicato(3%): R${sindicato:.2f}\n",
    "      \\nFGTS(11%): R${(salario_bruto * 0.11):.2f}\n",
    "      \\nTotal de descontos: R${descontos:.2f}\n",
    "      \\nSalário Liquido: R${(salario_bruto - descontos):.2f}''')\n"
   ]
  }
 ],
 "metadata": {
  "kernelspec": {
   "display_name": "Python 3",
   "language": "python",
   "name": "python3"
  },
  "language_info": {
   "codemirror_mode": {
    "name": "ipython",
    "version": 3
   },
   "file_extension": ".py",
   "mimetype": "text/x-python",
   "name": "python",
   "nbconvert_exporter": "python",
   "pygments_lexer": "ipython3",
   "version": "3.10.7"
  },
  "orig_nbformat": 4
 },
 "nbformat": 4,
 "nbformat_minor": 2
}
